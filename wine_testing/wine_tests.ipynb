{
 "cells": [
  {
   "cell_type": "code",
   "id": "initial_id",
   "metadata": {
    "collapsed": true,
    "ExecuteTime": {
     "end_time": "2025-05-17T15:56:15.677235Z",
     "start_time": "2025-05-17T15:56:15.661296Z"
    }
   },
   "source": [
    "import pandas as pd\n",
    "import numpy as np\n",
    "import os\n",
    "\n",
    "path=os.path.join(os.path.dirname(os.getcwd()), 'data', 'wine_quality_classification.csv')\n",
    "data=pd.read_csv(path)\n",
    "data['quality_label']=pd.Categorical(data['quality_label'], categories=['low', 'medium', 'high'], ordered=True)\n",
    "qualities={'high':data[data['quality_label']=='high'], 'medium':data[data['quality_label']=='medium'], 'low':data[data['quality_label']=='low']}"
   ],
   "outputs": [],
   "execution_count": 90
  },
  {
   "metadata": {
    "ExecuteTime": {
     "end_time": "2025-05-17T15:53:28.672907Z",
     "start_time": "2025-05-17T15:53:28.560859Z"
    }
   },
   "cell_type": "code",
   "source": [
    "from statsmodels.miscmodels.ordinal_model import OrderedModel\n",
    "\n",
    "x=data[['fixed_acidity','residual_sugar','alcohol','density']]\n",
    "y=data['quality_label']\n",
    "model = OrderedModel(y, x,distr='logit')\n",
    "\n",
    "result=model.fit(method='bfgs')\n",
    "print(result.summary())"
   ],
   "id": "ae0093b25c1678e4",
   "outputs": [
    {
     "name": "stdout",
     "output_type": "stream",
     "text": [
      "Optimization terminated successfully.\n",
      "         Current function value: 1.093980\n",
      "         Iterations: 38\n",
      "         Function evaluations: 41\n",
      "         Gradient evaluations: 41\n",
      "                             OrderedModel Results                             \n",
      "==============================================================================\n",
      "Dep. Variable:          quality_label   Log-Likelihood:                -1094.0\n",
      "Model:                   OrderedModel   AIC:                             2200.\n",
      "Method:            Maximum Likelihood   BIC:                             2229.\n",
      "Date:                Sat, 17 May 2025                                         \n",
      "Time:                        09:53:28                                         \n",
      "No. Observations:                1000                                         \n",
      "Df Residuals:                     994                                         \n",
      "Df Model:                           4                                         \n",
      "==================================================================================\n",
      "                     coef    std err          z      P>|z|      [0.025      0.975]\n",
      "----------------------------------------------------------------------------------\n",
      "fixed_acidity      0.0118      0.017      0.696      0.486      -0.021       0.045\n",
      "residual_sugar    -0.0220      0.014     -1.577      0.115      -0.049       0.005\n",
      "alcohol            0.0304      0.033      0.913      0.361      -0.035       0.096\n",
      "density           -9.8428     13.438     -0.732      0.464     -36.181      16.495\n",
      "low/medium       -10.3733     13.402     -0.774      0.439     -36.640      15.894\n",
      "medium/high        0.4010      0.047      8.587      0.000       0.309       0.492\n",
      "==================================================================================\n"
     ]
    }
   ],
   "execution_count": 84
  },
  {
   "metadata": {
    "ExecuteTime": {
     "end_time": "2025-05-17T15:53:28.704815Z",
     "start_time": "2025-05-17T15:53:28.697285Z"
    }
   },
   "cell_type": "code",
   "source": [
    "from statsmodels.stats.outliers_influence import variance_inflation_factor\n",
    "\n",
    "# Calculate VIF for each predictor in 'x'\n",
    "vif_data = pd.DataFrame()\n",
    "vif_data[\"Variable\"] = x.columns  # or x.columns.to_list() if x is a DataFrame\n",
    "vif_data[\"VIF\"] = [variance_inflation_factor(x.values, i) for i in range(x.shape[1])]\n",
    "\n",
    "print(vif_data)"
   ],
   "id": "4322e6d00e447407",
   "outputs": [
    {
     "name": "stdout",
     "output_type": "stream",
     "text": [
      "         Variable        VIF\n",
      "0   fixed_acidity   9.762771\n",
      "1  residual_sugar   4.356891\n",
      "2         alcohol  40.595285\n",
      "3         density  51.146768\n"
     ]
    }
   ],
   "execution_count": 85
  },
  {
   "metadata": {
    "ExecuteTime": {
     "end_time": "2025-05-17T15:53:28.834219Z",
     "start_time": "2025-05-17T15:53:28.776406Z"
    }
   },
   "cell_type": "code",
   "source": [
    "from statsmodels.miscmodels.ordinal_model import OrderedModel\n",
    "\n",
    "x=data[['fixed_acidity','residual_sugar','alcohol']]\n",
    "y=data['quality_label']\n",
    "model = OrderedModel(y, x,distr='logit')\n",
    "\n",
    "result=model.fit(method='bfgs')\n",
    "print(result.summary())"
   ],
   "id": "6d812b50bbb18422",
   "outputs": [
    {
     "name": "stdout",
     "output_type": "stream",
     "text": [
      "Optimization terminated successfully.\n",
      "         Current function value: 1.094240\n",
      "         Iterations: 17\n",
      "         Function evaluations: 20\n",
      "         Gradient evaluations: 20\n",
      "                             OrderedModel Results                             \n",
      "==============================================================================\n",
      "Dep. Variable:          quality_label   Log-Likelihood:                -1094.2\n",
      "Model:                   OrderedModel   AIC:                             2198.\n",
      "Method:            Maximum Likelihood   BIC:                             2223.\n",
      "Date:                Sat, 17 May 2025                                         \n",
      "Time:                        09:53:28                                         \n",
      "No. Observations:                1000                                         \n",
      "Df Residuals:                     995                                         \n",
      "Df Model:                           3                                         \n",
      "==================================================================================\n",
      "                     coef    std err          z      P>|z|      [0.025      0.975]\n",
      "----------------------------------------------------------------------------------\n",
      "fixed_acidity      0.0120      0.017      0.706      0.480      -0.021       0.045\n",
      "residual_sugar    -0.0220      0.014     -1.578      0.115      -0.049       0.005\n",
      "alcohol            0.0297      0.033      0.891      0.373      -0.036       0.095\n",
      "low/medium        -0.5615      0.419     -1.341      0.180      -1.382       0.259\n",
      "medium/high        0.4005      0.047      8.578      0.000       0.309       0.492\n",
      "==================================================================================\n"
     ]
    }
   ],
   "execution_count": 86
  },
  {
   "metadata": {
    "ExecuteTime": {
     "end_time": "2025-05-17T15:53:28.930057Z",
     "start_time": "2025-05-17T15:53:28.903584Z"
    }
   },
   "cell_type": "code",
   "source": [
    "import statsmodels.api as sm\n",
    "\n",
    "x=data[['fixed_acidity','residual_sugar','alcohol','density']]\n",
    "y=data['quality_label']\n",
    "x_with_const = sm.add_constant(x)\n",
    "y_for_np=y.map(lambda x: 2 if x == 'high' else 1 if x == 'medium' else 0)\n",
    "model = sm.OLS(y_for_np, x_with_const)\n",
    "result = model.fit(cov_type='HC3')\n",
    "\n",
    "print(result.summary())"
   ],
   "id": "6f52cc7bad9d5c59",
   "outputs": [
    {
     "name": "stdout",
     "output_type": "stream",
     "text": [
      "                            OLS Regression Results                            \n",
      "==============================================================================\n",
      "Dep. Variable:          quality_label   R-squared:                       0.004\n",
      "Model:                            OLS   Adj. R-squared:                  0.000\n",
      "Method:                 Least Squares   F-statistic:                     1.089\n",
      "Date:                Sat, 17 May 2025   Prob (F-statistic):              0.361\n",
      "Time:                        09:53:28   Log-Likelihood:                -1196.2\n",
      "No. Observations:                1000   AIC:                             2402.\n",
      "Df Residuals:                     995   BIC:                             2427.\n",
      "Df Model:                           4                                         \n",
      "Covariance Type:                  HC3                                         \n",
      "==================================================================================\n",
      "                     coef    std err          z      P>|z|      [0.025      0.975]\n",
      "----------------------------------------------------------------------------------\n",
      "const              5.2598      5.793      0.908      0.364      -6.093      16.613\n",
      "fixed_acidity      0.0047      0.007      0.636      0.525      -0.010       0.019\n",
      "residual_sugar    -0.0095      0.006     -1.550      0.121      -0.021       0.003\n",
      "alcohol            0.0128      0.015      0.869      0.385      -0.016       0.042\n",
      "density           -4.3461      5.810     -0.748      0.454     -15.733       7.041\n",
      "==============================================================================\n",
      "Omnibus:                    10382.717   Durbin-Watson:                   1.941\n",
      "Prob(Omnibus):                  0.000   Jarque-Bera (JB):               85.982\n",
      "Skew:                          -0.080   Prob(JB):                     2.13e-19\n",
      "Kurtosis:                       1.572   Cond. No.                     5.65e+03\n",
      "==============================================================================\n",
      "\n",
      "Notes:\n",
      "[1] Standard Errors are heteroscedasticity robust (HC3)\n",
      "[2] The condition number is large, 5.65e+03. This might indicate that there are\n",
      "strong multicollinearity or other numerical problems.\n"
     ]
    }
   ],
   "execution_count": 87
  },
  {
   "metadata": {
    "ExecuteTime": {
     "end_time": "2025-05-17T15:53:29.058357Z",
     "start_time": "2025-05-17T15:53:28.951150Z"
    }
   },
   "cell_type": "code",
   "source": [
    "from statsmodels.miscmodels.ordinal_model import OrderedModel\n",
    "\n",
    "x=data[['fixed_acidity','residual_sugar','alcohol','density']]\n",
    "y=data['quality_label']\n",
    "x['density']=x['density']**2\n",
    "model = OrderedModel(y, x,distr='logit')\n",
    "\n",
    "result=model.fit(method='bfgs')\n",
    "print(result.summary())"
   ],
   "id": "a32723d437a69e0b",
   "outputs": [
    {
     "name": "stdout",
     "output_type": "stream",
     "text": [
      "Optimization terminated successfully.\n",
      "         Current function value: 1.093980\n",
      "         Iterations: 37\n",
      "         Function evaluations: 40\n",
      "         Gradient evaluations: 40\n",
      "                             OrderedModel Results                             \n",
      "==============================================================================\n",
      "Dep. Variable:          quality_label   Log-Likelihood:                -1094.0\n",
      "Model:                   OrderedModel   AIC:                             2200.\n",
      "Method:            Maximum Likelihood   BIC:                             2229.\n",
      "Date:                Sat, 17 May 2025                                         \n",
      "Time:                        09:53:29                                         \n",
      "No. Observations:                1000                                         \n",
      "Df Residuals:                     994                                         \n",
      "Df Model:                           4                                         \n",
      "==================================================================================\n",
      "                     coef    std err          z      P>|z|      [0.025      0.975]\n",
      "----------------------------------------------------------------------------------\n",
      "fixed_acidity      0.0118      0.017      0.696      0.486      -0.021       0.045\n",
      "residual_sugar    -0.0220      0.014     -1.577      0.115      -0.049       0.005\n",
      "alcohol            0.0305      0.033      0.913      0.361      -0.035       0.096\n",
      "density           -4.8499      6.735     -0.720      0.471     -18.051       8.351\n",
      "low/medium        -5.3807      6.706     -0.802      0.422     -18.524       7.763\n",
      "medium/high        0.4009      0.047      8.586      0.000       0.309       0.492\n",
      "==================================================================================\n"
     ]
    },
    {
     "name": "stderr",
     "output_type": "stream",
     "text": [
      "C:\\Users\\Josiah\\AppData\\Local\\Temp\\ipykernel_10824\\3012593878.py:5: SettingWithCopyWarning: \n",
      "A value is trying to be set on a copy of a slice from a DataFrame.\n",
      "Try using .loc[row_indexer,col_indexer] = value instead\n",
      "\n",
      "See the caveats in the documentation: https://pandas.pydata.org/pandas-docs/stable/user_guide/indexing.html#returning-a-view-versus-a-copy\n",
      "  x['density']=x['density']**2\n"
     ]
    }
   ],
   "execution_count": 88
  },
  {
   "metadata": {
    "ExecuteTime": {
     "end_time": "2025-05-17T15:53:29.114416Z",
     "start_time": "2025-05-17T15:53:29.080662Z"
    }
   },
   "cell_type": "code",
   "source": [
    "for quality in qualities:\n",
    "    for type in ['fixed_acidity','residual_sugar','alcohol','density']:\n",
    "        top=qualities[quality][qualities[quality][type]==max(qualities[quality][type])]\n",
    "        bottom=qualities[quality][qualities[quality][type]==min(qualities[quality][type])]\n",
    "        print(\"top\")\n",
    "        print(top)\n",
    "        print()\n",
    "        print(\"bottom\")\n",
    "        print(bottom)\n",
    "        print()"
   ],
   "id": "9768396883c68626",
   "outputs": [
    {
     "name": "stdout",
     "output_type": "stream",
     "text": [
      "top\n",
      "     fixed_acidity  residual_sugar  alcohol  density quality_label\n",
      "312           16.0             3.1     10.0   0.9961          high\n",
      "339           16.0             5.0     11.8   0.9906          high\n",
      "635           16.0            14.1     13.3   0.9948          high\n",
      "\n",
      "bottom\n",
      "     fixed_acidity  residual_sugar  alcohol  density quality_label\n",
      "39             4.0            11.8     13.7   0.9918          high\n",
      "839            4.0            13.5     10.9   0.9928          high\n",
      "\n",
      "top\n",
      "     fixed_acidity  residual_sugar  alcohol  density quality_label\n",
      "378            6.7            14.9      9.9   1.0017          high\n",
      "380           15.7            14.9     13.4   1.0017          high\n",
      "\n",
      "bottom\n",
      "     fixed_acidity  residual_sugar  alcohol  density quality_label\n",
      "110            8.2             0.5     12.6   0.9977          high\n",
      "287           13.9             0.5     12.6   0.9915          high\n",
      "457           11.7             0.5     13.0   0.9907          high\n",
      "942            7.0             0.5     11.1   1.0018          high\n",
      "\n",
      "top\n",
      "     fixed_acidity  residual_sugar  alcohol  density quality_label\n",
      "559           14.5             5.2     14.0   0.9907          high\n",
      "\n",
      "bottom\n",
      "     fixed_acidity  residual_sugar  alcohol  density quality_label\n",
      "321           11.7             2.1      8.0   1.0001          high\n",
      "529           10.2             3.7      8.0   0.9917          high\n",
      "727           14.6             3.3      8.0   0.9953          high\n",
      "\n",
      "top\n",
      "     fixed_acidity  residual_sugar  alcohol  density quality_label\n",
      "247           10.8             7.5     12.8   1.0048          high\n",
      "375            7.9             1.8      8.6   1.0048          high\n",
      "\n",
      "bottom\n",
      "     fixed_acidity  residual_sugar  alcohol  density quality_label\n",
      "12             8.3             9.1     11.5     0.99          high\n",
      "418           15.2             7.1     12.9     0.99          high\n",
      "464           10.6             3.2     11.5     0.99          high\n",
      "\n",
      "top\n",
      "     fixed_acidity  residual_sugar  alcohol  density quality_label\n",
      "314           16.0             1.4     11.7   1.0050        medium\n",
      "743           16.0             7.4     10.9   0.9997        medium\n",
      "748           16.0            13.2     13.9   1.0035        medium\n",
      "\n",
      "bottom\n",
      "     fixed_acidity  residual_sugar  alcohol  density quality_label\n",
      "429            4.1             5.7     10.1   0.9980        medium\n",
      "758            4.1             4.7     12.9   1.0022        medium\n",
      "870            4.1             7.8     10.5   1.0012        medium\n",
      "892            4.1            12.2     12.1   0.9914        medium\n",
      "\n",
      "top\n",
      "     fixed_acidity  residual_sugar  alcohol  density quality_label\n",
      "335           11.2            14.9     10.9   0.9902        medium\n",
      "408           12.1            14.9      9.8   1.0010        medium\n",
      "747           13.5            14.9     11.3   0.9994        medium\n",
      "896            5.1            14.9     12.0   0.9992        medium\n",
      "\n",
      "bottom\n",
      "     fixed_acidity  residual_sugar  alcohol  density quality_label\n",
      "155            7.2             0.5     12.6   0.9911        medium\n",
      "347           12.0             0.5      9.1   0.9965        medium\n",
      "883            7.1             0.5     10.7   0.9950        medium\n",
      "\n",
      "top\n",
      "     fixed_acidity  residual_sugar  alcohol  density quality_label\n",
      "1             11.2             2.0     14.0   0.9912        medium\n",
      "694           13.0            11.8     14.0   1.0032        medium\n",
      "\n",
      "bottom\n",
      "     fixed_acidity  residual_sugar  alcohol  density quality_label\n",
      "106            9.9            14.3      8.0   0.9940        medium\n",
      "238           12.2             7.4      8.0   0.9963        medium\n",
      "412           15.5            13.6      8.0   1.0046        medium\n",
      "\n",
      "top\n",
      "     fixed_acidity  residual_sugar  alcohol  density quality_label\n",
      "314           16.0             1.4     11.7    1.005        medium\n",
      "\n",
      "bottom\n",
      "     fixed_acidity  residual_sugar  alcohol  density quality_label\n",
      "952            6.1             4.1     12.8   0.9901        medium\n",
      "\n",
      "top\n",
      "     fixed_acidity  residual_sugar  alcohol  density quality_label\n",
      "279           15.9             1.7      9.9   0.9995           low\n",
      "654           15.9             6.1      9.5   0.9902           low\n",
      "\n",
      "bottom\n",
      "     fixed_acidity  residual_sugar  alcohol  density quality_label\n",
      "955            4.1             9.3      8.9   0.9964           low\n",
      "\n",
      "top\n",
      "     fixed_acidity  residual_sugar  alcohol  density quality_label\n",
      "242           12.0            15.0     12.5   0.9926           low\n",
      "\n",
      "bottom\n",
      "     fixed_acidity  residual_sugar  alcohol  density quality_label\n",
      "41            11.9             0.6      9.5   0.9927           low\n",
      "515           12.0             0.6      9.9   0.9932           low\n",
      "\n",
      "top\n",
      "     fixed_acidity  residual_sugar  alcohol  density quality_label\n",
      "101            9.4             9.7     14.0   0.9906           low\n",
      "316           12.7             1.1     14.0   0.9913           low\n",
      "\n",
      "bottom\n",
      "     fixed_acidity  residual_sugar  alcohol  density quality_label\n",
      "67            13.9             9.7      8.0   1.0012           low\n",
      "76            10.0             9.4      8.0   0.9990           low\n",
      "974           14.8             6.3      8.0   1.0040           low\n",
      "\n",
      "top\n",
      "     fixed_acidity  residual_sugar  alcohol  density quality_label\n",
      "243            7.7             8.5     13.0    1.005           low\n",
      "976            9.2            11.6      9.2    1.005           low\n",
      "\n",
      "bottom\n",
      "     fixed_acidity  residual_sugar  alcohol  density quality_label\n",
      "224            6.8             9.3     13.7     0.99           low\n",
      "938           12.8            10.3     13.6     0.99           low\n",
      "\n"
     ]
    }
   ],
   "execution_count": 89
  }
 ],
 "metadata": {
  "kernelspec": {
   "display_name": "Python 3",
   "language": "python",
   "name": "python3"
  },
  "language_info": {
   "codemirror_mode": {
    "name": "ipython",
    "version": 2
   },
   "file_extension": ".py",
   "mimetype": "text/x-python",
   "name": "python",
   "nbconvert_exporter": "python",
   "pygments_lexer": "ipython2",
   "version": "2.7.6"
  }
 },
 "nbformat": 4,
 "nbformat_minor": 5
}
