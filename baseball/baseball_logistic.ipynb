{
 "cells": [
  {
   "cell_type": "code",
   "id": "initial_id",
   "metadata": {
    "collapsed": true,
    "ExecuteTime": {
     "end_time": "2025-05-28T02:16:46.123887Z",
     "start_time": "2025-05-28T02:16:46.109323Z"
    }
   },
   "source": [
    "import pandas as pd\n",
    "import statsmodels.api as sm\n",
    "import os\n",
    "\n",
    "path=os.path.join(os.path.dirname(os.getcwd()), 'data', 'baseball.csv')\n",
    "df=pd.read_csv(path)\n",
    "\n",
    "print(df.head())\n",
    "df.dropna(inplace=True)"
   ],
   "outputs": [
    {
     "name": "stdout",
     "output_type": "stream",
     "text": [
      "   Game Team Opponent Win_Loss  Runs  Runs Allowed Day_Night  Attendance  \\\n",
      "0     1  ARI      SFG      Win     6             5       Day     49016.0   \n",
      "1     1  CHC      STL     Loss     3             4     Night     47566.0   \n",
      "2     1  NYY      TBR     Loss     3             7       Day     31042.0   \n",
      "3     1  SFG      ARI     Loss     5             6       Day     49016.0   \n",
      "4     1  STL      CHC      Win     4             3     Night     47566.0   \n",
      "\n",
      "  Team.1  HR Count  \n",
      "0    ARI         1  \n",
      "1    CHC         1  \n",
      "2    NYY         0  \n",
      "3     SF         2  \n",
      "4    STL         1  \n"
     ]
    }
   ],
   "execution_count": 25
  },
  {
   "metadata": {
    "ExecuteTime": {
     "end_time": "2025-05-28T01:48:55.609207Z",
     "start_time": "2025-05-28T01:48:55.604127Z"
    }
   },
   "cell_type": "code",
   "source": [
    "x = df['HR Count']\n",
    "y = df['Win_Loss'].map({\"Win\":True, \"Loss\":False})"
   ],
   "id": "e2e074a75a86be72",
   "outputs": [],
   "execution_count": 22
  },
  {
   "metadata": {
    "ExecuteTime": {
     "end_time": "2025-05-28T01:48:55.635247Z",
     "start_time": "2025-05-28T01:48:55.618367Z"
    }
   },
   "cell_type": "code",
   "source": [
    "logit = sm.Logit(y,x)\n",
    "results = logit.fit()\n",
    "print(results.summary2())"
   ],
   "id": "22c6eba0c620d8b2",
   "outputs": [
    {
     "name": "stdout",
     "output_type": "stream",
     "text": [
      "Optimization terminated successfully.\n",
      "         Current function value: 0.667122\n",
      "         Iterations 5\n",
      "                         Results: Logit\n",
      "================================================================\n",
      "Model:              Logit            Method:           MLE      \n",
      "Dependent Variable: Win_Loss         Pseudo R-squared: 0.038    \n",
      "Date:               2025-05-27 19:48 AIC:              6457.0759\n",
      "No. Observations:   4838             BIC:              6463.5602\n",
      "Df Model:           0                Log-Likelihood:   -3227.5  \n",
      "Df Residuals:       4837             LL-Null:          -3353.4  \n",
      "Converged:          1.0000           LLR p-value:      nan      \n",
      "No. Iterations:     5.0000           Scale:            1.0000   \n",
      "------------------------------------------------------------------\n",
      "            Coef.    Std.Err.      z      P>|z|    [0.025   0.975]\n",
      "------------------------------------------------------------------\n",
      "HR Count    0.2799     0.0184   15.1856   0.0000   0.2437   0.3160\n",
      "================================================================\n",
      "\n"
     ]
    }
   ],
   "execution_count": 23
  },
  {
   "metadata": {
    "ExecuteTime": {
     "end_time": "2025-05-28T02:17:07.257233Z",
     "start_time": "2025-05-28T02:17:07.241881Z"
    }
   },
   "cell_type": "code",
   "source": [
    "test=df\n",
    "test['Game']*=2\n",
    "print(df.head())"
   ],
   "id": "fd181487d870ee92",
   "outputs": [
    {
     "name": "stdout",
     "output_type": "stream",
     "text": [
      "   Game Team Opponent Win_Loss  Runs  Runs Allowed Day_Night  Attendance  \\\n",
      "0     2  ARI      SFG      Win     6             5       Day     49016.0   \n",
      "1     2  CHC      STL     Loss     3             4     Night     47566.0   \n",
      "2     2  NYY      TBR     Loss     3             7       Day     31042.0   \n",
      "3     2  SFG      ARI     Loss     5             6       Day     49016.0   \n",
      "4     2  STL      CHC      Win     4             3     Night     47566.0   \n",
      "\n",
      "  Team.1  HR Count  \n",
      "0    ARI         1  \n",
      "1    CHC         1  \n",
      "2    NYY         0  \n",
      "3     SF         2  \n",
      "4    STL         1  \n"
     ]
    }
   ],
   "execution_count": 26
  }
 ],
 "metadata": {
  "kernelspec": {
   "display_name": "Python 3",
   "language": "python",
   "name": "python3"
  },
  "language_info": {
   "codemirror_mode": {
    "name": "ipython",
    "version": 2
   },
   "file_extension": ".py",
   "mimetype": "text/x-python",
   "name": "python",
   "nbconvert_exporter": "python",
   "pygments_lexer": "ipython2",
   "version": "2.7.6"
  }
 },
 "nbformat": 4,
 "nbformat_minor": 5
}
