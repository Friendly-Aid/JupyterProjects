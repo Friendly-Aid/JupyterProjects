{
 "cells": [
  {
   "metadata": {},
   "cell_type": "markdown",
   "source": "Import libraries",
   "id": "f27301a55e924177"
  },
  {
   "metadata": {
    "ExecuteTime": {
     "end_time": "2025-05-23T21:47:18.737471Z",
     "start_time": "2025-05-23T21:47:18.734464Z"
    }
   },
   "cell_type": "code",
   "source": [
    "import pandas as pd\n",
    "from sklearn.model_selection import train_test_split\n",
    "from sklearn.linear_model import LinearRegression\n",
    "from sklearn.metrics import mean_squared_error"
   ],
   "id": "bf8065abc274dcdc",
   "outputs": [],
   "execution_count": 73
  },
  {
   "metadata": {},
   "cell_type": "markdown",
   "source": "Find data correlation and get data head.",
   "id": "358da96b2abf464c"
  },
  {
   "metadata": {
    "ExecuteTime": {
     "end_time": "2025-05-23T23:06:28.376183Z",
     "start_time": "2025-05-23T23:06:28.344259Z"
    }
   },
   "cell_type": "code",
   "source": [
    "import os\n",
    "\n",
    "path=os.path.join(os.path.dirname(os.getcwd()), 'data', 'Walmart_Sales.csv')\n",
    "sales_data=pd.read_csv(path)\n",
    "sales_data[\"Date\"]=pd.to_datetime(sales_data[\"Date\"],format='%d-%m-%Y')\n",
    "sales_data.groupby(sales_data['Date'].dt.to_period('M'))['Weekly_Sales'].sum().reset_index()\n",
    "\n",
    "matrix=sales_data[['Weekly_Sales','Temperature','Fuel_Price','CPI','Unemployment']].corr()\n",
    "print(matrix)\n",
    "\n",
    "print()\n",
    "\n",
    "print(sales_data.head())\n",
    "X = sales_data[['Holiday_Flag', 'Temperature', 'Fuel_Price', 'CPI', 'Unemployment']]\n",
    "y = sales_data['Weekly_Sales']"
   ],
   "id": "f33a7934edf3d9af",
   "outputs": [
    {
     "name": "stdout",
     "output_type": "stream",
     "text": [
      "              Weekly_Sales  Temperature  Fuel_Price       CPI  Unemployment\n",
      "Weekly_Sales      1.000000    -0.063810    0.009464 -0.072634     -0.106176\n",
      "Temperature      -0.063810     1.000000    0.144982  0.176888      0.101158\n",
      "Fuel_Price        0.009464     0.144982    1.000000 -0.170642     -0.034684\n",
      "CPI              -0.072634     0.176888   -0.170642  1.000000     -0.302020\n",
      "Unemployment     -0.106176     0.101158   -0.034684 -0.302020      1.000000\n",
      "\n",
      "   Store       Date  Weekly_Sales  Holiday_Flag  Temperature  Fuel_Price  \\\n",
      "0      1 2010-02-05    1643690.90             0        42.31       2.572   \n",
      "1      1 2010-02-12    1641957.44             1        38.51       2.548   \n",
      "2      1 2010-02-19    1611968.17             0        39.93       2.514   \n",
      "3      1 2010-02-26    1409727.59             0        46.63       2.561   \n",
      "4      1 2010-03-05    1554806.68             0        46.50       2.625   \n",
      "\n",
      "          CPI  Unemployment  \n",
      "0  211.096358         8.106  \n",
      "1  211.242170         8.106  \n",
      "2  211.289143         8.106  \n",
      "3  211.319643         8.106  \n",
      "4  211.350143         8.106  \n"
     ]
    }
   ],
   "execution_count": 155
  },
  {
   "metadata": {},
   "cell_type": "markdown",
   "source": "Create and train LinearRegression model",
   "id": "a890b8c70ed6d4e"
  },
  {
   "metadata": {
    "ExecuteTime": {
     "end_time": "2025-05-23T21:47:18.827158Z",
     "start_time": "2025-05-23T21:47:18.813513Z"
    }
   },
   "cell_type": "code",
   "source": [
    "X_train, X_test, y_train, y_test = train_test_split(X, y, test_size=0.2, random_state=42)\n",
    "\n",
    "model = LinearRegression()\n",
    "model.fit(X_train, y_train)\n",
    "\n",
    "y_pred = model.predict(X_test)"
   ],
   "id": "cc2d62616fed6e06",
   "outputs": [],
   "execution_count": 75
  },
  {
   "metadata": {},
   "cell_type": "markdown",
   "source": "Display analysis for model and coefficients",
   "id": "a308defe9466dca5"
  },
  {
   "metadata": {
    "ExecuteTime": {
     "end_time": "2025-05-23T21:47:18.873667Z",
     "start_time": "2025-05-23T21:47:18.865438Z"
    }
   },
   "cell_type": "code",
   "source": [
    "print(\"Average value: \", sales_data['Weekly_Sales'].mean())\n",
    "mse = mean_squared_error(y_test, y_pred)\n",
    "print(\"Mean Squared Error:\", mse)\n",
    "print(\"Root Mean Squared Error:\", mse**0.5)\n",
    "\n",
    "coefficients = pd.DataFrame(model.coef_, X.columns, columns=['Coefficient'])\n",
    "print(\"\\nCoefficients:\")\n",
    "print(coefficients)"
   ],
   "id": "d1d116408c7cc0fe",
   "outputs": [
    {
     "name": "stdout",
     "output_type": "stream",
     "text": [
      "Average value:  1046964.8775617715\n",
      "Mean Squared Error: 316554511405.115\n",
      "Root Mean Squared Error: 562631.7724810028\n",
      "\n",
      "Coefficients:\n",
      "               Coefficient\n",
      "Holiday_Flag  85575.747224\n",
      "Temperature    -503.229762\n",
      "Fuel_Price   -20058.290544\n",
      "CPI           -1646.712769\n",
      "Unemployment -43843.105508\n"
     ]
    }
   ],
   "execution_count": 76
  },
  {
   "metadata": {},
   "cell_type": "markdown",
   "source": "I find it interesting Fuel_Price has a negative coefficient while it has a positive correlation, but I don't know how to explain it. As for the goodness of fit for the model the Mean Squared Error is extremely large, so I will get R2 value for further analysis",
   "id": "8eff48e8854d7072"
  },
  {
   "metadata": {
    "ExecuteTime": {
     "end_time": "2025-05-23T21:47:18.897464Z",
     "start_time": "2025-05-23T21:47:18.891450Z"
    }
   },
   "cell_type": "code",
   "source": [
    "from sklearn.metrics import r2_score\n",
    "r2 = r2_score(y_test, y_pred)\n",
    "print(\"R2:\", r2)"
   ],
   "id": "a3f0d04fcfa5308a",
   "outputs": [
    {
     "name": "stdout",
     "output_type": "stream",
     "text": [
      "R2: 0.01738312550370069\n"
     ]
    }
   ],
   "execution_count": 77
  },
  {
   "metadata": {},
   "cell_type": "markdown",
   "source": "The low R2 value means that there is a very bad fit for the model. Next ill make a QQ-plot to visualize",
   "id": "fa3ad521abe6d6f1"
  },
  {
   "metadata": {
    "ExecuteTime": {
     "end_time": "2025-05-23T21:47:19.071954Z",
     "start_time": "2025-05-23T21:47:18.955882Z"
    }
   },
   "cell_type": "code",
   "source": [
    "import matplotlib.pyplot as plt\n",
    "plt.scatter(y=y_pred, x=y_test)\n",
    "plt.plot([min(y_test),max(y_test)],[min(y_test),max(y_test)])"
   ],
   "id": "48cf2ebeaa3f4510",
   "outputs": [
    {
     "data": {
      "text/plain": [
       "[<matplotlib.lines.Line2D at 0x1abccc29820>]"
      ]
     },
     "execution_count": 78,
     "metadata": {},
     "output_type": "execute_result"
    },
    {
     "data": {
      "text/plain": [
       "<Figure size 640x480 with 1 Axes>"
      ],
      "image/png": "[encoded data removed]"
     },
     "metadata": {},
     "output_type": "display_data"
    }
   ],
   "execution_count": 78
  },
  {
   "metadata": {},
   "cell_type": "markdown",
   "source": "The QQ plot shows that there is almost no adjustment in the prediction based off of the data",
   "id": "3ad5761afc6d10f9"
  },
  {
   "metadata": {
    "ExecuteTime": {
     "end_time": "2025-05-23T21:47:19.289480Z",
     "start_time": "2025-05-23T21:47:19.104257Z"
    }
   },
   "cell_type": "code",
   "source": "plt.scatter(y=abs(y_test-y_pred), x=y_pred)",
   "id": "b050fa5f1c76b058",
   "outputs": [
    {
     "data": {
      "text/plain": [
       "<matplotlib.collections.PathCollection at 0x1abccc94fe0>"
      ]
     },
     "execution_count": 79,
     "metadata": {},
     "output_type": "execute_result"
    },
    {
     "data": {
      "text/plain": [
       "<Figure size 640x480 with 1 Axes>"
      ],
      "image/png": "[encoded data removed]"
     },
     "metadata": {},
     "output_type": "display_data"
    }
   ],
   "execution_count": 79
  },
  {
   "metadata": {},
   "cell_type": "markdown",
   "source": "Neext I will check if any of the predictor values have a good fit with the data",
   "id": "75dae0e00fe46f0e"
  },
  {
   "metadata": {
    "ExecuteTime": {
     "end_time": "2025-05-23T21:47:19.535085Z",
     "start_time": "2025-05-23T21:47:19.314104Z"
    }
   },
   "cell_type": "code",
   "source": [
    "y=sales_data[\"Weekly_Sales\"]\n",
    "for X in map(lambda x: sales_data[[x]],['Temperature', 'Fuel_Price', 'CPI', 'Unemployment']):\n",
    "    X_train, X_test, y_train, y_test = train_test_split(X, y, test_size=0.2, random_state=42)\n",
    "\n",
    "    model = LinearRegression()\n",
    "    model.fit(X_train, y_train)\n",
    "\n",
    "    y_pred = model.predict(X_test)\n",
    "    plt.scatter(y=y_pred, x=y_test)\n",
    "    plt.plot([min(y_test),max(y_test)],[min(y_test),max(y_test)])"
   ],
   "id": "38246a54846e5b20",
   "outputs": [
    {
     "data": {
      "text/plain": [
       "<Figure size 640x480 with 1 Axes>"
      ],
      "image/png": "[encoded data removed]"
     },
     "metadata": {},
     "output_type": "display_data"
    }
   ],
   "execution_count": 80
  },
  {
   "metadata": {},
   "cell_type": "markdown",
   "source": "The above graph shows that there is next to no linear relationship between the different types of data",
   "id": "e31275e65649c5bd"
  },
  {
   "metadata": {
    "ExecuteTime": {
     "end_time": "2025-05-23T22:04:19.907773Z",
     "start_time": "2025-05-23T22:04:19.874682Z"
    }
   },
   "cell_type": "code",
   "source": [
    "import statsmodels.api as sm\n",
    "\n",
    "X = sales_data[['Holiday_Flag', 'Temperature', 'Fuel_Price', 'CPI', 'Unemployment']]\n",
    "X=sm.add_constant(X)\n",
    "y = sales_data['Weekly_Sales']\n",
    "\n",
    "X_train, X_test, y_train, y_test = train_test_split(X, y, test_size=0.2, random_state=42)\n",
    "\n",
    "model = sm.OLS(y, X)\n",
    "results = model.fit()\n",
    "\n",
    "results.summary()"
   ],
   "id": "bd9689139145a3dc",
   "outputs": [
    {
     "data": {
      "text/plain": [
       "<class 'statsmodels.iolib.summary.Summary'>\n",
       "\"\"\"\n",
       "                            OLS Regression Results                            \n",
       "==============================================================================\n",
       "Dep. Variable:           Weekly_Sales   R-squared:                       0.025\n",
       "Model:                            OLS   Adj. R-squared:                  0.025\n",
       "Method:                 Least Squares   F-statistic:                     33.57\n",
       "Date:                Fri, 23 May 2025   Prob (F-statistic):           5.93e-34\n",
       "Time:                        16:04:19   Log-Likelihood:                -94269.\n",
       "No. Observations:                6435   AIC:                         1.886e+05\n",
       "Df Residuals:                    6429   BIC:                         1.886e+05\n",
       "Df Model:                           5                                         \n",
       "Covariance Type:            nonrobust                                         \n",
       "================================================================================\n",
       "                   coef    std err          t      P>|t|      [0.025      0.975]\n",
       "--------------------------------------------------------------------------------\n",
       "const         1.727e+06   7.98e+04     21.646      0.000    1.57e+06    1.88e+06\n",
       "Holiday_Flag  7.489e+04   2.76e+04      2.710      0.007    2.07e+04    1.29e+05\n",
       "Temperature   -724.1715    400.461     -1.808      0.071   -1509.207      60.864\n",
       "Fuel_Price   -1.017e+04   1.58e+04     -0.645      0.519   -4.11e+04    2.07e+04\n",
       "CPI          -1598.8717    195.127     -8.194      0.000   -1981.385   -1216.358\n",
       "Unemployment -4.155e+04   3972.660    -10.460      0.000   -4.93e+04   -3.38e+04\n",
       "==============================================================================\n",
       "Omnibus:                      365.109   Durbin-Watson:                   0.114\n",
       "Prob(Omnibus):                  0.000   Jarque-Bera (JB):              430.212\n",
       "Skew:                           0.633   Prob(JB):                     3.81e-94\n",
       "Kurtosis:                       3.007   Cond. No.                     2.16e+03\n",
       "==============================================================================\n",
       "\n",
       "Notes:\n",
       "[1] Standard Errors assume that the covariance matrix of the errors is correctly specified.\n",
       "[2] The condition number is large, 2.16e+03. This might indicate that there are\n",
       "strong multicollinearity or other numerical problems.\n",
       "\"\"\""
      ],
      "text/html": [
       "<table class=\"simpletable\">\n",
       "<caption>OLS Regression Results</caption>\n",
       "<tr>\n",
       "  <th>Dep. Variable:</th>      <td>Weekly_Sales</td>   <th>  R-squared:         </th> <td>   0.025</td> \n",
       "</tr>\n",
       "<tr>\n",
       "  <th>Model:</th>                   <td>OLS</td>       <th>  Adj. R-squared:    </th> <td>   0.025</td> \n",
       "</tr>\n",
       "<tr>\n",
       "  <th>Method:</th>             <td>Least Squares</td>  <th>  F-statistic:       </th> <td>   33.57</td> \n",
       "</tr>\n",
       "<tr>\n",
       "  <th>Date:</th>             <td>Fri, 23 May 2025</td> <th>  Prob (F-statistic):</th> <td>5.93e-34</td> \n",
       "</tr>\n",
       "<tr>\n",
       "  <th>Time:</th>                 <td>16:04:19</td>     <th>  Log-Likelihood:    </th> <td> -94269.</td> \n",
       "</tr>\n",
       "<tr>\n",
       "  <th>No. Observations:</th>      <td>  6435</td>      <th>  AIC:               </th> <td>1.886e+05</td>\n",
       "</tr>\n",
       "<tr>\n",
       "  <th>Df Residuals:</th>          <td>  6429</td>      <th>  BIC:               </th> <td>1.886e+05</td>\n",
       "</tr>\n",
       "<tr>\n",
       "  <th>Df Model:</th>              <td>     5</td>      <th>                     </th>     <td> </td>    \n",
       "</tr>\n",
       "<tr>\n",
       "  <th>Covariance Type:</th>      <td>nonrobust</td>    <th>                     </th>     <td> </td>    \n",
       "</tr>\n",
       "</table>\n",
       "<table class=\"simpletable\">\n",
       "<tr>\n",
       "        <td></td>          <th>coef</th>     <th>std err</th>      <th>t</th>      <th>P>|t|</th>  <th>[0.025</th>    <th>0.975]</th>  \n",
       "</tr>\n",
       "<tr>\n",
       "  <th>const</th>        <td> 1.727e+06</td> <td> 7.98e+04</td> <td>   21.646</td> <td> 0.000</td> <td> 1.57e+06</td> <td> 1.88e+06</td>\n",
       "</tr>\n",
       "<tr>\n",
       "  <th>Holiday_Flag</th> <td> 7.489e+04</td> <td> 2.76e+04</td> <td>    2.710</td> <td> 0.007</td> <td> 2.07e+04</td> <td> 1.29e+05</td>\n",
       "</tr>\n",
       "<tr>\n",
       "  <th>Temperature</th>  <td> -724.1715</td> <td>  400.461</td> <td>   -1.808</td> <td> 0.071</td> <td>-1509.207</td> <td>   60.864</td>\n",
       "</tr>\n",
       "<tr>\n",
       "  <th>Fuel_Price</th>   <td>-1.017e+04</td> <td> 1.58e+04</td> <td>   -0.645</td> <td> 0.519</td> <td>-4.11e+04</td> <td> 2.07e+04</td>\n",
       "</tr>\n",
       "<tr>\n",
       "  <th>CPI</th>          <td>-1598.8717</td> <td>  195.127</td> <td>   -8.194</td> <td> 0.000</td> <td>-1981.385</td> <td>-1216.358</td>\n",
       "</tr>\n",
       "<tr>\n",
       "  <th>Unemployment</th> <td>-4.155e+04</td> <td> 3972.660</td> <td>  -10.460</td> <td> 0.000</td> <td>-4.93e+04</td> <td>-3.38e+04</td>\n",
       "</tr>\n",
       "</table>\n",
       "<table class=\"simpletable\">\n",
       "<tr>\n",
       "  <th>Omnibus:</th>       <td>365.109</td> <th>  Durbin-Watson:     </th> <td>   0.114</td>\n",
       "</tr>\n",
       "<tr>\n",
       "  <th>Prob(Omnibus):</th> <td> 0.000</td>  <th>  Jarque-Bera (JB):  </th> <td> 430.212</td>\n",
       "</tr>\n",
       "<tr>\n",
       "  <th>Skew:</th>          <td> 0.633</td>  <th>  Prob(JB):          </th> <td>3.81e-94</td>\n",
       "</tr>\n",
       "<tr>\n",
       "  <th>Kurtosis:</th>      <td> 3.007</td>  <th>  Cond. No.          </th> <td>2.16e+03</td>\n",
       "</tr>\n",
       "</table><br/><br/>Notes:<br/>[1] Standard Errors assume that the covariance matrix of the errors is correctly specified.<br/>[2] The condition number is large, 2.16e+03. This might indicate that there are<br/>strong multicollinearity or other numerical problems."
      ],
      "text/latex": "\\begin{center}\n\\begin{tabular}{lclc}\n\\toprule\n\\textbf{Dep. Variable:}    &  Weekly\\_Sales   & \\textbf{  R-squared:         } &     0.025   \\\\\n\\textbf{Model:}            &       OLS        & \\textbf{  Adj. R-squared:    } &     0.025   \\\\\n\\textbf{Method:}           &  Least Squares   & \\textbf{  F-statistic:       } &     33.57   \\\\\n\\textbf{Date:}             & Fri, 23 May 2025 & \\textbf{  Prob (F-statistic):} &  5.93e-34   \\\\\n\\textbf{Time:}             &     16:04:19     & \\textbf{  Log-Likelihood:    } &   -94269.   \\\\\n\\textbf{No. Observations:} &        6435      & \\textbf{  AIC:               } & 1.886e+05   \\\\\n\\textbf{Df Residuals:}     &        6429      & \\textbf{  BIC:               } & 1.886e+05   \\\\\n\\textbf{Df Model:}         &           5      & \\textbf{                     } &             \\\\\n\\textbf{Covariance Type:}  &    nonrobust     & \\textbf{                     } &             \\\\\n\\bottomrule\n\\end{tabular}\n\\begin{tabular}{lcccccc}\n                       & \\textbf{coef} & \\textbf{std err} & \\textbf{t} & \\textbf{P$> |$t$|$} & \\textbf{[0.025} & \\textbf{0.975]}  \\\\\n\\midrule\n\\textbf{const}         &    1.727e+06  &     7.98e+04     &    21.646  &         0.000        &     1.57e+06    &     1.88e+06     \\\\\n\\textbf{Holiday\\_Flag} &    7.489e+04  &     2.76e+04     &     2.710  &         0.007        &     2.07e+04    &     1.29e+05     \\\\\n\\textbf{Temperature}   &    -724.1715  &      400.461     &    -1.808  &         0.071        &    -1509.207    &       60.864     \\\\\n\\textbf{Fuel\\_Price}   &   -1.017e+04  &     1.58e+04     &    -0.645  &         0.519        &    -4.11e+04    &     2.07e+04     \\\\\n\\textbf{CPI}           &   -1598.8717  &      195.127     &    -8.194  &         0.000        &    -1981.385    &    -1216.358     \\\\\n\\textbf{Unemployment}  &   -4.155e+04  &     3972.660     &   -10.460  &         0.000        &    -4.93e+04    &    -3.38e+04     \\\\\n\\bottomrule\n\\end{tabular}\n\\begin{tabular}{lclc}\n\\textbf{Omnibus:}       & 365.109 & \\textbf{  Durbin-Watson:     } &    0.114  \\\\\n\\textbf{Prob(Omnibus):} &   0.000 & \\textbf{  Jarque-Bera (JB):  } &  430.212  \\\\\n\\textbf{Skew:}          &   0.633 & \\textbf{  Prob(JB):          } & 3.81e-94  \\\\\n\\textbf{Kurtosis:}      &   3.007 & \\textbf{  Cond. No.          } & 2.16e+03  \\\\\n\\bottomrule\n\\end{tabular}\n%\\caption{OLS Regression Results}\n\\end{center}\n\nNotes: \\newline\n [1] Standard Errors assume that the covariance matrix of the errors is correctly specified. \\newline\n [2] The condition number is large, 2.16e+03. This might indicate that there are \\newline\n strong multicollinearity or other numerical problems."
     },
     "execution_count": 92,
     "metadata": {},
     "output_type": "execute_result"
    }
   ],
   "execution_count": 92
  },
  {
   "metadata": {},
   "cell_type": "markdown",
   "source": "I made A Ordinary Least Squares model to show key analysis data. But later am realizing it isn't very helpful due to the data not being linear",
   "id": "1a8671e7427092ea"
  },
  {
   "metadata": {},
   "cell_type": "markdown",
   "source": "Now I am going to make A polynomial model and get the OLS to see what values I should remove",
   "id": "e4ef7a1ea89289e"
  },
  {
   "metadata": {
    "ExecuteTime": {
     "end_time": "2025-05-23T22:27:23.573005Z",
     "start_time": "2025-05-23T22:27:23.439971Z"
    }
   },
   "cell_type": "code",
   "source": [
    "from sklearn.preprocessing import StandardScaler, PolynomialFeatures\n",
    "\n",
    "X=sales_data[['Store', 'Fuel_Price', 'CPI', 'Unemployment']]\n",
    "y=sales_data['Weekly_Sales']\n",
    "\n",
    "poly = PolynomialFeatures(degree=5, include_bias=False)\n",
    "X_poly = poly.fit_transform(X)\n",
    "\n",
    "feature_names = poly.get_feature_names_out(input_features=X.columns)\n",
    "X_poly_df = pd.DataFrame(X_poly, columns=feature_names)\n",
    "\n",
    "# Add constant term for intercept\n",
    "X_poly_df = sm.add_constant(X_poly_df)\n",
    "\n",
    "# Fit the model with statsmodels\n",
    "model = sm.OLS(y, X_poly_df).fit()\n",
    "\n",
    "# View the summary with p-values\n",
    "print(model.summary())"
   ],
   "id": "2f2ae37b9f6c5aa4",
   "outputs": [
    {
     "name": "stdout",
     "output_type": "stream",
     "text": [
      "                            OLS Regression Results                            \n",
      "==============================================================================\n",
      "Dep. Variable:           Weekly_Sales   R-squared:                       0.613\n",
      "Model:                            OLS   Adj. R-squared:                  0.606\n",
      "Method:                 Least Squares   F-statistic:                     90.88\n",
      "Date:                Fri, 23 May 2025   Prob (F-statistic):               0.00\n",
      "Time:                        16:27:23   Log-Likelihood:                -91302.\n",
      "No. Observations:                6435   AIC:                         1.828e+05\n",
      "Df Residuals:                    6324   BIC:                         1.836e+05\n",
      "Df Model:                         110                                         \n",
      "Covariance Type:            nonrobust                                         \n",
      "=======================================================================================================\n",
      "                                          coef    std err          t      P>|t|      [0.025      0.975]\n",
      "-------------------------------------------------------------------------------------------------------\n",
      "const                                5001.2055    4.3e+04      0.116      0.907   -7.93e+04    8.93e+04\n",
      "Store                               -4.768e+06   3.02e+06     -1.577      0.115   -1.07e+07    1.16e+06\n",
      "Fuel_Price                           7.911e+05   1.84e+05      4.296      0.000     4.3e+05    1.15e+06\n",
      "CPI                                 -3.588e+06   1.12e+06     -3.204      0.001   -5.78e+06   -1.39e+06\n",
      "Unemployment                         2.155e+06    1.5e+06      1.435      0.151   -7.89e+05     5.1e+06\n",
      "Store^2                              1.451e+06   1.34e+05     10.800      0.000    1.19e+06    1.71e+06\n",
      "Store Fuel_Price                    -5.871e+06   3.46e+06     -1.699      0.089   -1.26e+07    9.02e+05\n",
      "Store CPI                            2.334e+05   8.79e+04      2.656      0.008    6.11e+04    4.06e+05\n",
      "Store Unemployment                  -1.459e+07   1.14e+06    -12.842      0.000   -1.68e+07   -1.24e+07\n",
      "Fuel_Price^2                         3.141e+06    2.4e+06      1.308      0.191   -1.57e+06    7.85e+06\n",
      "Fuel_Price CPI                       1.263e+06   6.71e+05      1.882      0.060   -5.26e+04    2.58e+06\n",
      "Fuel_Price Unemployment              5.928e+06    3.9e+06      1.522      0.128   -1.71e+06    1.36e+07\n",
      "CPI^2                                1.844e+04   2.28e+04      0.808      0.419   -2.63e+04    6.32e+04\n",
      "CPI Unemployment                     1.691e+06   4.11e+05      4.112      0.000    8.85e+05     2.5e+06\n",
      "Unemployment^2                       1.095e+07   5.14e+06      2.129      0.033    8.65e+05     2.1e+07\n",
      "Store^3                             -9732.1271   1224.799     -7.946      0.000   -1.21e+04   -7331.107\n",
      "Store^2 Fuel_Price                   6.061e+04   3.25e+04      1.863      0.063   -3178.049    1.24e+05\n",
      "Store^2 CPI                         -2.439e+04   1576.577    -15.473      0.000   -2.75e+04   -2.13e+04\n",
      "Store^2 Unemployment                 4.582e+04   1.49e+04      3.067      0.002    1.65e+04    7.51e+04\n",
      "Store Fuel_Price^2                  -2.571e+06   1.09e+06     -2.353      0.019   -4.71e+06   -4.29e+05\n",
      "Store Fuel_Price CPI                 1.305e+05   2.59e+04      5.040      0.000    7.98e+04    1.81e+05\n",
      "Store Fuel_Price Unemployment        1.334e+06   3.18e+05      4.189      0.000     7.1e+05    1.96e+06\n",
      "Store CPI^2                         -2238.4353    721.302     -3.103      0.002   -3652.431    -824.439\n",
      "Store CPI Unemployment                1.76e+05   1.42e+04     12.378      0.000    1.48e+05    2.04e+05\n",
      "Store Unemployment^2                 7.668e+05   1.05e+05      7.283      0.000     5.6e+05    9.73e+05\n",
      "Fuel_Price^3                         6.759e+06   8.77e+06      0.771      0.441   -1.04e+07    2.39e+07\n",
      "Fuel_Price^2 CPI                    -1.118e+06   5.31e+05     -2.107      0.035   -2.16e+06   -7.81e+04\n",
      "Fuel_Price^2 Unemployment            1.778e+07    4.8e+06      3.704      0.000    8.37e+06    2.72e+07\n",
      "Fuel_Price CPI^2                     6732.7307   8320.253      0.809      0.418   -9577.787     2.3e+04\n",
      "Fuel_Price CPI Unemployment         -2.419e+05   2.03e+05     -1.194      0.233   -6.39e+05    1.55e+05\n",
      "Fuel_Price Unemployment^2           -9.238e+06   1.71e+06     -5.397      0.000   -1.26e+07   -5.88e+06\n",
      "CPI^3                                 116.0705    193.964      0.598      0.550    -264.166     496.307\n",
      "CPI^2 Unemployment                  -2.473e+04   5289.426     -4.675      0.000   -3.51e+04   -1.44e+04\n",
      "CPI Unemployment^2                  -1.929e+05   4.84e+04     -3.984      0.000   -2.88e+05    -9.8e+04\n",
      "Unemployment^3                       3.087e+05   4.93e+05      0.626      0.532   -6.59e+05    1.28e+06\n",
      "Store^4                                -5.0582      9.867     -0.513      0.608     -24.400      14.284\n",
      "Store^3 Fuel_Price                    388.0264    274.253      1.415      0.157    -149.602     925.655\n",
      "Store^3 CPI                           103.3859      6.590     15.687      0.000      90.466     116.305\n",
      "Store^3 Unemployment                  570.0746    134.017      4.254      0.000     307.356     832.793\n",
      "Store^2 Fuel_Price^2                 5392.8098   6533.205      0.825      0.409   -7414.488    1.82e+04\n",
      "Store^2 Fuel_Price CPI               -699.6196    135.645     -5.158      0.000    -965.530    -433.709\n",
      "Store^2 Fuel_Price Unemployment     -8357.0972   2248.673     -3.716      0.000   -1.28e+04   -3948.935\n",
      "Store^2 CPI^2                         126.7099      7.108     17.825      0.000     112.775     140.645\n",
      "Store^2 CPI Unemployment             -312.8547    105.644     -2.961      0.003    -519.952    -105.757\n",
      "Store^2 Unemployment^2              -4359.6102    659.409     -6.611      0.000   -5652.275   -3066.946\n",
      "Store Fuel_Price^3                   5.457e+05   1.79e+05      3.049      0.002    1.95e+05    8.97e+05\n",
      "Store Fuel_Price^2 CPI               -312.9936   3253.224     -0.096      0.923   -6690.416    6064.429\n",
      "Store Fuel_Price^2 Unemployment     -6.705e+04   5.23e+04     -1.282      0.200    -1.7e+05    3.55e+04\n",
      "Store Fuel_Price CPI^2               -354.4605    111.134     -3.190      0.001    -572.320    -136.601\n",
      "Store Fuel_Price CPI Unemployment   -1.269e+04   1897.027     -6.688      0.000   -1.64e+04   -8968.799\n",
      "Store Fuel_Price Unemployment^2        82.4094    1.1e+04      0.007      0.994   -2.15e+04    2.17e+04\n",
      "Store CPI^3                             2.3925      2.624      0.912      0.362      -2.752       7.537\n",
      "Store CPI^2 Unemployment             -541.2012     54.042    -10.015      0.000    -647.141    -435.262\n",
      "Store CPI Unemployment^2            -8485.8206    983.530     -8.628      0.000   -1.04e+04   -6557.769\n",
      "Store Unemployment^3                -4704.3041   3524.685     -1.335      0.182   -1.16e+04    2205.274\n",
      "Fuel_Price^4                         1.983e+06   2.15e+06      0.924      0.356   -2.22e+06    6.19e+06\n",
      "Fuel_Price^3 CPI                     -5.74e+04   6.76e+04     -0.849      0.396    -1.9e+05    7.51e+04\n",
      "Fuel_Price^3 Unemployment           -5.261e+06   1.16e+06     -4.520      0.000   -7.54e+06   -2.98e+06\n",
      "Fuel_Price^2 CPI^2                   7061.8353   1907.322      3.702      0.000    3322.837    1.08e+04\n",
      "Fuel_Price^2 CPI Unemployment         4.55e+04   3.08e+04      1.477      0.140   -1.49e+04    1.06e+05\n",
      "Fuel_Price^2 Unemployment^2          9.115e+05   2.44e+05      3.738      0.000    4.33e+05    1.39e+06\n",
      "Fuel_Price CPI^3                      -91.3859     42.467     -2.152      0.031    -174.636      -8.135\n",
      "Fuel_Price CPI^2 Unemployment        -334.8085    984.825     -0.340      0.734   -2265.400    1595.783\n",
      "Fuel_Price CPI Unemployment^2        3.966e+04   1.27e+04      3.117      0.002    1.47e+04    6.46e+04\n",
      "Fuel_Price Unemployment^3             3.01e+05   6.43e+04      4.684      0.000    1.75e+05    4.27e+05\n",
      "CPI^4                                  -0.6939      0.726     -0.956      0.339      -2.117       0.729\n",
      "CPI^3 Unemployment                     99.0861     21.383      4.634      0.000      57.168     141.004\n",
      "CPI^2 Unemployment^2                 1811.7728    251.818      7.195      0.000    1318.125    2305.421\n",
      "CPI Unemployment^3                  -2011.7617   4150.401     -0.485      0.628   -1.01e+04    6124.433\n",
      "Unemployment^4                      -4.033e+04   1.49e+04     -2.713      0.007   -6.95e+04   -1.12e+04\n",
      "Store^5                                -0.3916      0.059     -6.606      0.000      -0.508      -0.275\n",
      "Store^4 Fuel_Price                     -2.0736      1.420     -1.461      0.144      -4.857       0.710\n",
      "Store^4 CPI                             0.2632      0.025     10.551      0.000       0.214       0.312\n",
      "Store^4 Unemployment                    0.9057      0.629      1.440      0.150      -0.328       2.139\n",
      "Store^3 Fuel_Price^2                   17.8161     30.145      0.591      0.555     -41.279      76.911\n",
      "Store^3 Fuel_Price CPI                 -1.7624      0.522     -3.376      0.001      -2.786      -0.739\n",
      "Store^3 Fuel_Price Unemployment        -0.4777     17.315     -0.028      0.978     -34.420      33.465\n",
      "Store^3 CPI^2                          -0.2773      0.016    -17.708      0.000      -0.308      -0.247\n",
      "Store^3 CPI Unemployment               -3.5973      0.288    -12.512      0.000      -4.161      -3.034\n",
      "Store^3 Unemployment^2                -11.4330      5.083     -2.249      0.025     -21.397      -1.469\n",
      "Store^2 Fuel_Price^3                -1561.0388    557.362     -2.801      0.005   -2653.657    -468.420\n",
      "Store^2 Fuel_Price^2 CPI               27.2367     10.197      2.671      0.008       7.246      47.227\n",
      "Store^2 Fuel_Price^2 Unemployment     569.4799    216.489      2.631      0.009     145.088     993.872\n",
      "Store^2 Fuel_Price CPI^2                1.1039      0.299      3.696      0.000       0.518       1.690\n",
      "Store^2 Fuel_Price CPI Unemployment    28.9368      6.048      4.785      0.000      17.081      40.792\n",
      "Store^2 Fuel_Price Unemployment^2      15.8703     32.688      0.486      0.627     -48.210      79.951\n",
      "Store^2 CPI^3                          -0.1975      0.010    -18.947      0.000      -0.218      -0.177\n",
      "Store^2 CPI^2 Unemployment              0.0415      0.240      0.173      0.863      -0.429       0.512\n",
      "Store^2 CPI Unemployment^2             31.2287      2.801     11.148      0.000      25.737      36.720\n",
      "Store^2 Unemployment^3                 40.3100      7.210      5.591      0.000      26.175      54.445\n",
      "Store Fuel_Price^4                  -3.059e+04   1.15e+04     -2.658      0.008   -5.31e+04   -8026.945\n",
      "Store Fuel_Price^3 CPI               -722.1611    211.719     -3.411      0.001   -1137.202    -307.120\n",
      "Store Fuel_Price^3 Unemployment      6907.4181   3862.937      1.788      0.074    -665.248    1.45e+04\n",
      "Store Fuel_Price^2 CPI^2               16.9617      6.589      2.574      0.010       4.045      29.878\n",
      "Store Fuel_Price^2 CPI Unemployment    87.0397    142.054      0.613      0.540    -191.434     365.513\n",
      "Store Fuel_Price^2 Unemployment^2   -2565.9941    709.599     -3.616      0.000   -3957.048   -1174.940\n",
      "Store Fuel_Price CPI^3                 -0.0237      0.169     -0.141      0.888      -0.354       0.307\n",
      "Store Fuel_Price CPI^2 Unemployment    23.5270      4.308      5.462      0.000      15.082      31.971\n",
      "Store Fuel_Price CPI Unemployment^2   195.7161     59.534      3.287      0.001      79.010     312.422\n",
      "Store Fuel_Price Unemployment^3      -232.1680    137.160     -1.693      0.091    -501.049      36.713\n",
      "Store CPI^4                             0.0100      0.004      2.745      0.006       0.003       0.017\n",
      "Store CPI^3 Unemployment                0.4696      0.085      5.546      0.000       0.304       0.636\n",
      "Store CPI^2 Unemployment^2             16.7389      1.674      9.997      0.000      13.457      20.021\n",
      "Store CPI Unemployment^3               44.5206     21.076      2.112      0.035       3.204      85.837\n",
      "Store Unemployment^4                  -63.9986     34.335     -1.864      0.062    -131.308       3.310\n",
      "Fuel_Price^5                         -2.51e+05   1.49e+05     -1.687      0.092   -5.43e+05    4.07e+04\n",
      "Fuel_Price^4 CPI                     7245.3208   3829.626      1.892      0.059    -262.046    1.48e+04\n",
      "Fuel_Price^4 Unemployment            2.361e+05   8.75e+04      2.699      0.007    6.46e+04    4.08e+05\n",
      "Fuel_Price^3 CPI^2                   -351.2459    151.023     -2.326      0.020    -647.301     -55.191\n",
      "Fuel_Price^3 CPI Unemployment        1.188e+04   2275.334      5.219      0.000    7415.322    1.63e+04\n",
      "Fuel_Price^3 Unemployment^2         -8018.7889    1.8e+04     -0.445      0.656   -4.33e+04    2.73e+04\n",
      "Fuel_Price^2 CPI^3                     -2.3220      2.957     -0.785      0.432      -8.118       3.474\n",
      "Fuel_Price^2 CPI^2 Unemployment      -305.5734     81.394     -3.754      0.000    -465.134    -146.013\n",
      "Fuel_Price^2 CPI Unemployment^2     -4262.4981   1013.544     -4.206      0.000   -6249.387   -2275.609\n",
      "Fuel_Price^2 Unemployment^3         -6549.3345   3197.609     -2.048      0.041   -1.28e+04    -280.936\n",
      "Fuel_Price CPI^4                        0.1026      0.065      1.576      0.115      -0.025       0.230\n",
      "Fuel_Price CPI^3 Unemployment           3.3730      1.641      2.055      0.040       0.156       6.590\n",
      "Fuel_Price CPI^2 Unemployment^2         7.9278     28.440      0.279      0.780     -47.824      63.680\n",
      "Fuel_Price CPI Unemployment^3        -930.1376    359.810     -2.585      0.010   -1635.487    -224.788\n",
      "Fuel_Price Unemployment^4           -3822.0504    856.232     -4.464      0.000   -5500.555   -2143.546\n",
      "CPI^5                                   0.0011      0.001      1.122      0.262      -0.001       0.003\n",
      "CPI^4 Unemployment                     -0.1309      0.030     -4.404      0.000      -0.189      -0.073\n",
      "CPI^3 Unemployment^2                   -3.6640      0.511     -7.166      0.000      -4.666      -2.662\n",
      "CPI^2 Unemployment^3                  -25.9685      6.391     -4.063      0.000     -38.497     -13.440\n",
      "CPI Unemployment^4                    341.2415     92.873      3.674      0.000     159.180     523.303\n",
      "Unemployment^5                        237.5915    125.238      1.897      0.058      -7.918     483.101\n",
      "==============================================================================\n",
      "Omnibus:                      799.708   Durbin-Watson:                   0.284\n",
      "Prob(Omnibus):                  0.000   Jarque-Bera (JB):             1699.168\n",
      "Skew:                           0.762   Prob(JB):                         0.00\n",
      "Kurtosis:                       5.003   Cond. No.                     2.05e+16\n",
      "==============================================================================\n",
      "\n",
      "Notes:\n",
      "[1] Standard Errors assume that the covariance matrix of the errors is correctly specified.\n",
      "[2] The condition number is large, 2.05e+16. This might indicate that there are\n",
      "strong multicollinearity or other numerical problems.\n"
     ]
    }
   ],
   "execution_count": 121
  },
  {
   "metadata": {},
   "cell_type": "markdown",
   "source": "I discovered that Holiday_Flag and Temperature typically have a high p value; so I decided to remove them",
   "id": "ceb2c8faf9ed53c9"
  },
  {
   "metadata": {},
   "cell_type": "markdown",
   "source": "Next I am going to run a while loop to increase the polynomial degree until the new MSE is less than 5% less than the old MSE",
   "id": "f6dcfd413bc1f8ae"
  },
  {
   "metadata": {
    "ExecuteTime": {
     "end_time": "2025-05-23T22:47:38.786316Z",
     "start_time": "2025-05-23T22:47:38.391477Z"
    }
   },
   "cell_type": "code",
   "source": [
    "X=sales_data[['Store', 'Fuel_Price', 'CPI', 'Unemployment']]\n",
    "y=sales_data['Weekly_Sales']\n",
    "\n",
    "best_model=None\n",
    "best_MSE=float('inf')\n",
    "i=2\n",
    "while True:\n",
    "    poly = PolynomialFeatures(degree=i, include_bias=False)\n",
    "    X_poly = poly.fit_transform(X)\n",
    "    X_train, X_test, y_train, y_test = train_test_split(X_poly, y, test_size=0.2, random_state=42)\n",
    "\n",
    "    scaler = StandardScaler()\n",
    "    X_train_scaled = scaler.fit_transform(X_train)\n",
    "    X_test_scaled = scaler.transform(X_test)\n",
    "\n",
    "    model = LinearRegression()\n",
    "    model.fit(X_train, y_train)\n",
    "\n",
    "    y_pred = model.predict(X_test)\n",
    "    MSE = mean_squared_error(y_test, y_pred)\n",
    "    if ((MSE/best_MSE)*100) <= 95:\n",
    "        best_model = model\n",
    "        best_MSE=MSE\n",
    "    else:\n",
    "        break\n",
    "    i+=1\n",
    "\n",
    "print(\"Average value: \", sales_data['Weekly_Sales'].mean())\n",
    "mse = mean_squared_error(y_test, y_pred)\n",
    "print(\"Mean Squared Error:\", mse)\n",
    "print(\"Root Mean Squared Error:\", mse**0.5)\n",
    "\n",
    "r2 = r2_score(y_test, y_pred)\n",
    "print(\"R2:\", r2)\n",
    "\n",
    "plt.scatter(y=y_pred, x=y_test)\n",
    "plt.plot([min(y_test),max(y_test)],[min(y_test),max(y_test)])"
   ],
   "id": "c5b2520fbd7b52e1",
   "outputs": [
    {
     "name": "stdout",
     "output_type": "stream",
     "text": [
      "Average value:  1046964.8775617715\n",
      "Mean Squared Error: 139887817006.85806\n",
      "Root Mean Squared Error: 374015.7978038602\n",
      "R2: 0.5657742203159513\n"
     ]
    },
    {
     "data": {
      "text/plain": [
       "[<matplotlib.lines.Line2D at 0x1abdf861400>]"
      ]
     },
     "execution_count": 145,
     "metadata": {},
     "output_type": "execute_result"
    },
    {
     "data": {
      "text/plain": [
       "<Figure size 640x480 with 1 Axes>"
      ],
      "image/png": "[encoded data removed]"
     },
     "metadata": {},
     "output_type": "display_data"
    }
   ],
   "execution_count": 145
  },
  {
   "metadata": {},
   "cell_type": "markdown",
   "source": "After creating the polynomial model I have a much better model with over 50% of the variation explained. Although I can explain a large amount of variance I can't explain enough to deem this model good for use",
   "id": "6445b365ef864421"
  },
  {
   "metadata": {},
   "cell_type": "markdown",
   "source": "I decided to make a RandomForestRegressor and find the best variables for the model",
   "id": "968456e678cdbdda"
  },
  {
   "metadata": {
    "ExecuteTime": {
     "end_time": "2025-05-23T22:57:26.897306Z",
     "start_time": "2025-05-23T22:56:51.261177Z"
    }
   },
   "cell_type": "code",
   "source": [
    "from sklearn.ensemble import RandomForestRegressor\n",
    "from sklearn.model_selection import RandomizedSearchCV\n",
    "\n",
    "model = RandomForestRegressor(random_state=42)\n",
    "\n",
    "param_dist = {\n",
    "    'n_estimators': range(100,600,100),\n",
    "    'max_depth': [None, range(10,60,10)],\n",
    "    'min_samples_split': range(1,25,5),\n",
    "    'min_samples_leaf': range(1,10,2),\n",
    "}\n",
    "\n",
    "random_search = RandomizedSearchCV(\n",
    "    estimator=model,\n",
    "    param_distributions=param_dist,\n",
    "    n_iter=50,  # how many combinations to try\n",
    "    cv=5,       # 5-fold cross-validation\n",
    "    scoring='r2',  # or 'neg_mean_squared_error', etc.\n",
    "    random_state=42,\n",
    "    n_jobs=-1   # use all cores\n",
    ")\n",
    "random_search.fit(X_train, y_train)\n",
    "print(\"Best Parameters:\", random_search.best_params_)\n",
    "print(\"Best Score:\", random_search.best_score_)"
   ],
   "id": "140375aaf096d83a",
   "outputs": [
    {
     "name": "stderr",
     "output_type": "stream",
     "text": [
      "C:\\Users\\Josiah\\miniconda3\\Lib\\site-packages\\sklearn\\model_selection\\_validation.py:528: FitFailedWarning: \n",
      "125 fits failed out of a total of 250.\n",
      "The score on these train-test partitions for these parameters will be set to nan.\n",
      "If these failures are not expected, you can try to debug them by setting error_score='raise'.\n",
      "\n",
      "Below are more details about the failures:\n",
      "--------------------------------------------------------------------------------\n",
      "115 fits failed with the following error:\n",
      "Traceback (most recent call last):\n",
      "  File \"C:\\Users\\Josiah\\miniconda3\\Lib\\site-packages\\sklearn\\model_selection\\_validation.py\", line 866, in _fit_and_score\n",
      "    estimator.fit(X_train, y_train, **fit_params)\n",
      "  File \"C:\\Users\\Josiah\\miniconda3\\Lib\\site-packages\\sklearn\\base.py\", line 1382, in wrapper\n",
      "    estimator._validate_params()\n",
      "  File \"C:\\Users\\Josiah\\miniconda3\\Lib\\site-packages\\sklearn\\base.py\", line 436, in _validate_params\n",
      "    validate_parameter_constraints(\n",
      "  File \"C:\\Users\\Josiah\\miniconda3\\Lib\\site-packages\\sklearn\\utils\\_param_validation.py\", line 98, in validate_parameter_constraints\n",
      "    raise InvalidParameterError(\n",
      "sklearn.utils._param_validation.InvalidParameterError: The 'max_depth' parameter of RandomForestRegressor must be an int in the range [1, inf) or None. Got range(10, 60, 10) instead.\n",
      "\n",
      "--------------------------------------------------------------------------------\n",
      "10 fits failed with the following error:\n",
      "Traceback (most recent call last):\n",
      "  File \"C:\\Users\\Josiah\\miniconda3\\Lib\\site-packages\\sklearn\\model_selection\\_validation.py\", line 866, in _fit_and_score\n",
      "    estimator.fit(X_train, y_train, **fit_params)\n",
      "  File \"C:\\Users\\Josiah\\miniconda3\\Lib\\site-packages\\sklearn\\base.py\", line 1382, in wrapper\n",
      "    estimator._validate_params()\n",
      "  File \"C:\\Users\\Josiah\\miniconda3\\Lib\\site-packages\\sklearn\\base.py\", line 436, in _validate_params\n",
      "    validate_parameter_constraints(\n",
      "  File \"C:\\Users\\Josiah\\miniconda3\\Lib\\site-packages\\sklearn\\utils\\_param_validation.py\", line 98, in validate_parameter_constraints\n",
      "    raise InvalidParameterError(\n",
      "sklearn.utils._param_validation.InvalidParameterError: The 'min_samples_split' parameter of RandomForestRegressor must be an int in the range [2, inf) or a float in the range (0.0, 1.0]. Got 1 instead.\n",
      "\n",
      "  warnings.warn(some_fits_failed_message, FitFailedWarning)\n",
      "C:\\Users\\Josiah\\miniconda3\\Lib\\site-packages\\sklearn\\model_selection\\_search.py:1108: UserWarning: One or more of the test scores are non-finite: [       nan 0.1890325  0.27955558 0.270176   0.27642417        nan\n",
      "        nan        nan 0.18936884        nan        nan        nan\n",
      "        nan        nan 0.28190799        nan        nan 0.25867658\n",
      "        nan 0.27095233        nan 0.26157846 0.275759   0.28119807\n",
      "        nan 0.28031275 0.26822731 0.23623702 0.23542565 0.27353987\n",
      "        nan 0.23537969        nan        nan        nan 0.27602317\n",
      " 0.26124196        nan        nan        nan 0.27603194 0.27878264\n",
      " 0.27603194        nan        nan 0.26041813        nan 0.28126354\n",
      "        nan 0.26274834]\n",
      "  warnings.warn(\n"
     ]
    },
    {
     "name": "stdout",
     "output_type": "stream",
     "text": [
      "Best Parameters: {'n_estimators': 300, 'min_samples_split': 16, 'min_samples_leaf': 5, 'max_depth': None}\n",
      "Best Score: 0.2819079943973444\n"
     ]
    }
   ],
   "execution_count": 151
  },
  {
   "metadata": {},
   "cell_type": "markdown",
   "source": "I recieved A error that removes a lot of the data, but it didn't seem to cause a significant problem.",
   "id": "876f02dba4e260b6"
  },
  {
   "metadata": {
    "ExecuteTime": {
     "end_time": "2025-05-23T23:01:08.921929Z",
     "start_time": "2025-05-23T23:01:05.635280Z"
    }
   },
   "cell_type": "code",
   "source": [
    "X = sales_data[['Holiday_Flag', 'Temperature', 'Fuel_Price', 'CPI', 'Unemployment']]\n",
    "y = sales_data['Weekly_Sales']\n",
    "\n",
    "X_train, X_test, y_train, y_test = train_test_split(X, y, test_size=0.2, random_state=42)\n",
    "model = RandomForestRegressor(n_estimators=300, max_depth=None, min_samples_leaf=5, min_samples_split=16, random_state=42)\n",
    "\n",
    "model.fit(X_train, y_train)\n",
    "\n",
    "y_pred = model.predict(X_test)\n",
    "print(\"MSE:\", mean_squared_error(y_test, y_pred))\n",
    "print(\"RMSE: \", mean_squared_error(y_test, y_pred)**0.5)\n",
    "print(\"R²:\", r2_score(y_test, y_pred))"
   ],
   "id": "267147fe5366ddae",
   "outputs": [
    {
     "name": "stdout",
     "output_type": "stream",
     "text": [
      "MSE: 225547451949.8009\n",
      "RMSE:  474918.3634581852\n",
      "R²: 0.29987814325638296\n"
     ]
    }
   ],
   "execution_count": 154
  },
  {
   "metadata": {},
   "cell_type": "markdown",
   "source": "Using a model with the expected best model variables I got almost 30% of the variance explained, but still worse results than the polynomial model",
   "id": "f56d81a32e5dd03c"
  },
  {
   "metadata": {},
   "cell_type": "markdown",
   "source": "Overall there does not appear to be enough data for A accurate predictor model. I suggest either more exploration in types of data, or giving up on predicting the specific data.",
   "id": "3f49313b0888ee80"
  }
 ],
 "metadata": {
  "kernelspec": {
   "display_name": "Python 3",
   "language": "python",
   "name": "python3"
  },
  "language_info": {
   "codemirror_mode": {
    "name": "ipython",
    "version": 2
   },
   "file_extension": ".py",
   "mimetype": "text/x-python",
   "name": "python",
   "nbconvert_exporter": "python",
   "pygments_lexer": "ipython2",
   "version": "2.7.6"
  }
 },
 "nbformat": 4,
 "nbformat_minor": 5
}
